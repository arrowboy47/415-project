{
 "cells": [
  {
   "cell_type": "markdown",
   "metadata": {},
   "source": [
    "# Bayesian Time Series Analysis of Spotify Listening Time per Day"
   ]
  },
  {
   "cell_type": "markdown",
   "metadata": {},
   "source": [
    "## Set up "
   ]
  },
  {
   "cell_type": "code",
   "execution_count": 3,
   "metadata": {},
   "outputs": [],
   "source": [
    "# general pkgs\n",
    "import pandas as pd\n",
    "import numpy as np\n",
    "import matplotlib.pyplot as plt\n",
    "# model pkgs\n",
    "import pymc\n",
    "import arviz as az\n",
    "# assumption pkg\n",
    "from statsmodels.tsa.stattools import adfuller\n",
    "from statsmodels.graphics.tsaplots import plot_acf\n",
    "from statsmodels.tsa.ar_model import AutoReg\n",
    "import statsmodels.api as sm\n",
    "\n",
    "\n",
    "# Load the prepared data\n",
    "spot = pd.read_csv('spot_day_data.csv')\n",
    "\n",
    "spot = spot[['date', 'minutes_listened']]\n",
    "\n",
    "spot['date'] = pd.to_datetime(spot['date'])  # Ensure 'date' column is datetime format\n",
    "spot.set_index('date', inplace=True)  # Set 'date' column as index\n"
   ]
  },
  {
   "cell_type": "markdown",
   "metadata": {},
   "source": [
    "## Model Specifications\n",
    "\n",
    "Proceeding with a bayesian autoregressive model of order 1.\n",
    "\n",
    "### Parameters\n",
    "\n",
    " This model consists of 3 parameters: autoregressive coefficient, error term(white noise)\n",
    "\n",
    "1. **Local level model**: Determines the central tendency of the series. It has one parameter: \\( u_t \\).\n",
    "2. **Local linear trend**: Determines the trend of the series. It has two parameters: \\( u_t \\) (level) and \\( v_t \\) (slope, which is the rate of change of the level).\n",
    "3. **Seasonal effect**: Determines the magnitude and pattern of the series. It has one parameter: \\( s_t \\).\n",
    "\n",
    "where:\n",
    "- \\( y_t \\) is the observed value at time \\( t \\),  \n",
    "- \\( u_t \\) is the local level at time \\( t \\), \n",
    "- \\( v_t \\) is the local linear trend at time \\( t \\),  \n",
    "\n",
    "### Model Assumptions\n",
    "\n",
    "1. **Stationary -** time series should have the same mean, variance, and autocorr over time\n",
    "2. **White Noise -** the errors have a mean of 0, equal var, and not autocorrelated\n"
   ]
  },
  {
   "cell_type": "markdown",
   "metadata": {},
   "source": [
    "## Checking Assumptions\n",
    "\n",
    "### Stationarity Check"
   ]
  },
  {
   "cell_type": "code",
   "execution_count": 4,
   "metadata": {},
   "outputs": [
    {
     "name": "stdout",
     "output_type": "stream",
     "text": [
      "ADF Statistic: -5.1113968709709345\n",
      "p-value: 1.3297803599857623e-05\n",
      "Critical Values:\n",
      "1%: -3.4491725955218655\n",
      "5%: -2.8698334971428574\n",
      "10%: -2.5711883591836733\n"
     ]
    }
   ],
   "source": [
    "# stationarity check\n",
    "# Assuming your time series is in a variable named 'series'\n",
    "result = adfuller(spot['minutes_listened'])\n",
    "print('ADF Statistic:', result[0])\n",
    "print('p-value:', result[1])\n",
    "print('Critical Values:')\n",
    "for key, value in result[4].items():\n",
    "    print(f'{key}: {value}')"
   ]
  },
  {
   "cell_type": "markdown",
   "metadata": {},
   "source": [
    "We meet the assumption of stationary, because we rejected (pval = 1.3e-05) the null hypothesis for the nonstationary test and the ADF stat is less the all the critical values\n",
    "\n",
    "### White Noise Check"
   ]
  },
  {
   "cell_type": "code",
   "execution_count": 5,
   "metadata": {},
   "outputs": [
    {
     "ename": "NameError",
     "evalue": "name 'AutoReg' is not defined",
     "output_type": "error",
     "traceback": [
      "\u001b[0;31m---------------------------------------------------------------------------\u001b[0m",
      "\u001b[0;31mNameError\u001b[0m                                 Traceback (most recent call last)",
      "Cell \u001b[0;32mIn[5], line 2\u001b[0m\n\u001b[1;32m      1\u001b[0m \u001b[38;5;66;03m# Fit AR(1) model\u001b[39;00m\n\u001b[0;32m----> 2\u001b[0m model \u001b[38;5;241m=\u001b[39m \u001b[43mAutoReg\u001b[49m(df[\u001b[38;5;124m'\u001b[39m\u001b[38;5;124mminutes_spent\u001b[39m\u001b[38;5;124m'\u001b[39m], lags\u001b[38;5;241m=\u001b[39m\u001b[38;5;241m1\u001b[39m)\n\u001b[1;32m      3\u001b[0m results \u001b[38;5;241m=\u001b[39m model\u001b[38;5;241m.\u001b[39mfit()\n\u001b[1;32m      5\u001b[0m \u001b[38;5;66;03m# Get residuals\u001b[39;00m\n",
      "\u001b[0;31mNameError\u001b[0m: name 'AutoReg' is not defined"
     ]
    }
   ],
   "source": [
    "# Fit AR(1) model\n",
    "model = AutoReg(['minutes_'], lags=1)\n",
    "results = model.fit()\n",
    "\n",
    "# Get residuals\n",
    "residuals = results.resid\n",
    "\n",
    "\n",
    "# Plot residuals\n",
    "plt.figure(figsize=(10, 4))\n",
    "plt.subplot(1, 2, 1)\n",
    "plt.hist(residuals, bins=30)\n",
    "plt.title('Histogram of Residuals')\n",
    "plt.subplot(1, 2, 2)\n",
    "plt.plot(residuals)\n",
    "plt.title('Time Series Plot of Residuals')\n",
    "plt.tight_layout()\n",
    "plt.show()\n",
    "\n",
    "# Plot ACF of residuals\n",
    "plot_acf(residuals, lags=20)\n",
    "plt.title('Autocorrelation Function (ACF) of Residuals')\n",
    "plt.show()\n"
   ]
  },
  {
   "cell_type": "markdown",
   "metadata": {},
   "source": [
    "## Prior Distrib and Prior Pred\n",
    "\n",
    "$$\n",
    "u_t \\sim \\mathcal{N}(0, 10),    \n",
    "v_t \\sim \\mathcal{N}(0.5, 1),   \n",
    "s_t \\sim \\mathcal{N}(0, 1),     \n",
    "$$  "
   ]
  },
  {
   "cell_type": "code",
   "execution_count": 1,
   "metadata": {},
   "outputs": [
    {
     "ename": "SyntaxError",
     "evalue": "incomplete input (2949948992.py, line 11)",
     "output_type": "error",
     "traceback": [
      "\u001b[0;36m  Cell \u001b[0;32mIn[1], line 11\u001b[0;36m\u001b[0m\n\u001b[0;31m    \u001b[0m\n\u001b[0m    ^\u001b[0m\n\u001b[0;31mSyntaxError\u001b[0m\u001b[0;31m:\u001b[0m incomplete input\n"
     ]
    }
   ],
   "source": [
    "\n",
    "def draw_from_samples(samples):\n",
    "\n",
    "    AR1_model = pm.Model()\n",
    "\n",
    "    with AR1_model:\n",
    "        "
   ]
  },
  {
   "cell_type": "markdown",
   "metadata": {},
   "source": [
    "## Posterior Calculation"
   ]
  },
  {
   "cell_type": "code",
   "execution_count": null,
   "metadata": {},
   "outputs": [],
   "source": [
    "def draw_from_posterior(sample):\n",
    "    \"\"\"\n",
    "    Draw a sample of size N from the posterior distribution.\n",
    "    \"\"\"\n",
    "\n",
    "    AR1_model = pmc.Model()\n",
    "\n",
    "    with AR1_model:\n",
    "        \n",
    "        # Start with priors\n",
    "        rho = pmc.Uniform('rho',lower=-1.,upper=1.)  # Assume stable rho\n",
    "        sigma = pmc.HalfNormal('sigma', sigma = np.sqrt(10))\n",
    "\n",
    "        # Expected value of y at the next period (rho * y)\n",
    "        yhat = rho * sample[:-1]\n",
    "\n",
    "        # Likelihood of the actual realization.\n",
    "        y_like = pmc.Normal('y_obs', mu=yhat, sigma=sigma, observed=sample[1:])\n",
    "\n",
    "    with AR1_model:\n",
    "        trace = pmc.sample(10000, tune=5000)\n",
    "\n",
    "    # check condition\n",
    "    with AR1_model:\n",
    "        az.plot_trace(trace, figsize=(17, 6))\n",
    "    \n",
    "    rhos = trace.posterior.rho.values.flatten()\n",
    "    sigmas = trace.posterior.sigma.values.flatten()\n",
    "\n",
    "    post_sample = {\n",
    "        'rho': rhos,\n",
    "        'sigma': sigmas\n",
    "    }\n",
    "    \n",
    "    return post_sample\n",
    "\n",
    "post_samples = draw_from_posterior(initial_path)"
   ]
  },
  {
   "cell_type": "markdown",
   "metadata": {},
   "source": [
    "## Posterior Prediction and Interpretation"
   ]
  }
 ],
 "metadata": {
  "kernelspec": {
   "display_name": "Python 3",
   "language": "python",
   "name": "python3"
  },
  "language_info": {
   "codemirror_mode": {
    "name": "ipython",
    "version": 3
   },
   "file_extension": ".py",
   "mimetype": "text/x-python",
   "name": "python",
   "nbconvert_exporter": "python",
   "pygments_lexer": "ipython3",
   "version": "3.12.3"
  }
 },
 "nbformat": 4,
 "nbformat_minor": 2
}
