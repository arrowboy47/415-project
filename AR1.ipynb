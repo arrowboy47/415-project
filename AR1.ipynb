{
 "cells": [
  {
   "cell_type": "markdown",
   "metadata": {},
   "source": [
    "# Bayesian Time Series Analysis of Spotify Listening Time per Day"
   ]
  },
  {
   "cell_type": "markdown",
   "metadata": {},
   "source": [
    "## Set up "
   ]
  },
  {
   "cell_type": "code",
   "execution_count": null,
   "metadata": {},
   "outputs": [],
   "source": [
    "import pandas as pd\n",
    "import numpy as np\n",
    "import matplotlib.pyplot as plt\n",
    "import matplotlib.pyplot as plt\n",
    "\n",
    "# Load the prepared data\n",
    "spot = pd.read_csv('spot_day_data.csv')\n",
    "\n",
    "spot = spot[['date', 'minutes_listened']]"
   ]
  },
  {
   "cell_type": "markdown",
   "metadata": {},
   "source": [
    "## Model Specifications\n",
    "\n",
    "Proceeding with a Bayesian Structural Time Series model. This model consists of four components: trend, seasonality, regression, and autoregression.\n",
    "\n",
    "1. **Local level model**: Determines the central tendency of the series. It has one parameter: \\( u_t \\).\n",
    "2. **Local linear trend**: Determines the trend of the series. It has two parameters: \\( u_t \\) (level) and \\( v_t \\) (slope, which is the rate of change of the level).\n",
    "3. **Seasonal effect**: Determines the magnitude and pattern of the series. It has one parameter: \\( s_t \\).\n",
    "\n",
    "The model is defined by the following equation:\n",
    "\n",
    "where:\n",
    "- \\( y_t \\) is the observed value at time \\( t \\),  \n",
    "- \\( u_t \\) is the local level at time \\( t \\), \n",
    "- \\( v_t \\) is the local linear trend at time \\( t \\),  \n",
    "\n",
    "## Prior Distrib and Prior Pred\n",
    "\n",
    "$$\n",
    "u_t \\sim \\mathcal{N}(0, 10),    \n",
    "v_t \\sim \\mathcal{N}(0.5, 1),   \n",
    "s_t \\sim \\mathcal{N}(0, 1),     \n",
    "$$  "
   ]
  },
  {
   "cell_type": "code",
   "execution_count": null,
   "metadata": {},
   "outputs": [],
   "source": []
  }
 ],
 "metadata": {
  "language_info": {
   "name": "python"
  }
 },
 "nbformat": 4,
 "nbformat_minor": 2
}
