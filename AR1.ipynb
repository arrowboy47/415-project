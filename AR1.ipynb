{
 "cells": [
  {
   "cell_type": "markdown",
   "metadata": {},
   "source": [
    "# Bayesian Time Series Analysis of Spotify Listening Time per Day"
   ]
  },
  {
   "cell_type": "markdown",
   "metadata": {},
   "source": [
    "## Set up "
   ]
  },
  {
   "cell_type": "code",
   "execution_count": null,
   "metadata": {},
   "outputs": [],
   "source": [
    "import pandas as pd\n",
    "import numpy as np\n",
    "import matplotlib.pyplot as plt\n",
    "import matplotlib.pyplot as plt\n",
    "\n",
    "# Load the prepared data\n",
    "spot = pd.read_csv('spot_day_data.csv')\n",
    "\n",
    "spot = spot[['date', 'minutes_listened']]"
   ]
  },
  {
   "cell_type": "markdown",
   "metadata": {},
   "source": [
    "## Model Specifications\n",
    "\n",
    "Proceeding with a Bayesian Structural Time Series model. This model consists of four components: trend, seasonality, regression, and autoregression.\n",
    "\n",
    "1. **Local level model**: Determines the central tendency of the series. It has one parameter: \\( u_t \\).\n",
    "2. **Local linear trend**: Determines the trend of the series. It has two parameters: \\( u_t \\) (level) and \\( v_t \\) (slope, which is the rate of change of the level).\n",
    "3. **Seasonal effect**: Determines the magnitude and pattern of the series. It has one parameter: \\( s_t \\).\n",
    "\n",
    "The model is defined by the following equation:\n",
    "\n",
    "where:\n",
    "- \\( y_t \\) is the observed value at time \\( t \\),  \n",
    "- \\( u_t \\) is the local level at time \\( t \\), \n",
    "- \\( v_t \\) is the local linear trend at time \\( t \\),  \n",
    "\n",
    "## Prior Distrib and Prior Pred\n",
    "\n",
    "$$\n",
    "u_t \\sim \\mathcal{N}(0, 10),    \n",
    "v_t \\sim \\mathcal{N}(0.5, 1),   \n",
    "s_t \\sim \\mathcal{N}(0, 1),     \n",
    "$$  "
   ]
  },
  {
   "cell_type": "code",
   "execution_count": 1,
   "metadata": {},
   "outputs": [
    {
     "ename": "SyntaxError",
     "evalue": "incomplete input (2949948992.py, line 11)",
     "output_type": "error",
     "traceback": [
      "\u001b[0;36m  Cell \u001b[0;32mIn[1], line 11\u001b[0;36m\u001b[0m\n\u001b[0;31m    \u001b[0m\n\u001b[0m    ^\u001b[0m\n\u001b[0;31mSyntaxError\u001b[0m\u001b[0;31m:\u001b[0m incomplete input\n"
     ]
    }
   ],
   "source": [
    "import numpy as np\n",
    "import matplotlib.pyplot as plt\n",
    "import pymc as pmc\n",
    "import arviz as az\n",
    "\n",
    "def draw_from_samples(samples):\n",
    "\n",
    "    AR1_model = pm.Model()\n",
    "\n",
    "    with AR1_model:\n",
    "        "
   ]
  },
  {
   "cell_type": "code",
   "execution_count": null,
   "metadata": {},
   "outputs": [],
   "source": [
    "def draw_from_posterior(sample):\n",
    "    \"\"\"\n",
    "    Draw a sample of size N from the posterior distribution.\n",
    "    \"\"\"\n",
    "\n",
    "    AR1_model = pmc.Model()\n",
    "\n",
    "    with AR1_model:\n",
    "        \n",
    "        # Start with priors\n",
    "        rho = pmc.Uniform('rho',lower=-1.,upper=1.)  # Assume stable rho\n",
    "        sigma = pmc.HalfNormal('sigma', sigma = np.sqrt(10))\n",
    "\n",
    "        # Expected value of y at the next period (rho * y)\n",
    "        yhat = rho * sample[:-1]\n",
    "\n",
    "        # Likelihood of the actual realization.\n",
    "        y_like = pmc.Normal('y_obs', mu=yhat, sigma=sigma, observed=sample[1:])\n",
    "\n",
    "    with AR1_model:\n",
    "        trace = pmc.sample(10000, tune=5000)\n",
    "\n",
    "    # check condition\n",
    "    with AR1_model:\n",
    "        az.plot_trace(trace, figsize=(17, 6))\n",
    "    \n",
    "    rhos = trace.posterior.rho.values.flatten()\n",
    "    sigmas = trace.posterior.sigma.values.flatten()\n",
    "\n",
    "    post_sample = {\n",
    "        'rho': rhos,\n",
    "        'sigma': sigmas\n",
    "    }\n",
    "    \n",
    "    return post_sample\n",
    "\n",
    "post_samples = draw_from_posterior(initial_path)"
   ]
  }
 ],
 "metadata": {
  "kernelspec": {
   "display_name": "Python 3",
   "language": "python",
   "name": "python3"
  },
  "language_info": {
   "codemirror_mode": {
    "name": "ipython",
    "version": 3
   },
   "file_extension": ".py",
   "mimetype": "text/x-python",
   "name": "python",
   "nbconvert_exporter": "python",
   "pygments_lexer": "ipython3",
   "version": "3.12.3"
  }
 },
 "nbformat": 4,
 "nbformat_minor": 2
}
